{
 "cells": [
  {
   "cell_type": "code",
   "execution_count": 1,
   "id": "12693a3e",
   "metadata": {},
   "outputs": [
    {
     "name": "stdout",
     "output_type": "stream",
     "text": [
      "Enter the name: Anisha\n",
      "Enter the roll number:21\n",
      "Enter the mark:78\n",
      "Name: Anisha\n",
      "Roll no: 21\n",
      "Mark: 78\n"
     ]
    }
   ],
   "source": [
    "name=str(input('Enter the name: '))\n",
    "roll=int(input('Enter the roll number:'))\n",
    "mark=int(input('Enter the mark:'))\n",
    "print('Name:',name)\n",
    "print('Roll no:',roll)\n",
    "print('Mark:',mark)"
   ]
  },
  {
   "cell_type": "code",
   "execution_count": 2,
   "id": "2ff05a29",
   "metadata": {},
   "outputs": [
    {
     "name": "stdout",
     "output_type": "stream",
     "text": [
      "Enter Temperature: 41\n",
      "Enter unit('C' for Celsius or 'F' for Fahrenheit): f\n",
      "Temperature in Celsius = 5.0\n"
     ]
    }
   ],
   "source": [
    "temp = float(input(\"Enter Temperature: \"))\n",
    "unit = input(\"Enter unit('C' for Celsius or 'F' for Fahrenheit): \")\n",
    "\n",
    "if unit == 'C' or unit == 'c' :\n",
    "    newtemp = 9 / 5 * temp + 32\n",
    "    print(\"Temperature in Fahrenheit =\", newtemp)\n",
    "elif unit == 'F' or unit == 'f' :\n",
    "    newtemp = 5 / 9 * (temp - 32)\n",
    "    print(\"Temperature in Celsius =\", newtemp)\n",
    "else :\n",
    "    print(\"Unknown unit\", unit)"
   ]
  },
  {
   "cell_type": "code",
   "execution_count": 3,
   "id": "e2999ee6",
   "metadata": {},
   "outputs": [
    {
     "name": "stdout",
     "output_type": "stream",
     "text": [
      "enter the first number:2\n",
      "enter the second number3\n",
      "product = 6\n"
     ]
    }
   ],
   "source": [
    "a=int(input('enter the first number:'))\n",
    "b=int(input('enter the second number'))\n",
    "print('product =',a*b)"
   ]
  },
  {
   "cell_type": "code",
   "execution_count": 4,
   "id": "f75dee8f",
   "metadata": {},
   "outputs": [
    {
     "name": "stdout",
     "output_type": "stream",
     "text": [
      "enter the radius:5\n",
      "Area of the circle= 78.53981633974483\n"
     ]
    }
   ],
   "source": [
    "import math\n",
    "r=float(input('enter the radius:'))\n",
    "print('Area of the circle=',math.pi*r**2)"
   ]
  },
  {
   "cell_type": "code",
   "execution_count": null,
   "id": "5820dad5",
   "metadata": {},
   "outputs": [],
   "source": []
  },
  {
   "cell_type": "code",
   "execution_count": 5,
   "id": "47c428e4",
   "metadata": {},
   "outputs": [
    {
     "name": "stdout",
     "output_type": "stream",
     "text": [
      "Learn Python by Developing a Website\n",
      "Learn **Python** by Developing a **Website**\n"
     ]
    }
   ],
   "source": [
    "string=input()\n",
    "word = string.split(\" \")\n",
    "output =str('Learn **Python** by Developing a **Website**')\n",
    "print(output)\n"
   ]
  },
  {
   "cell_type": "code",
   "execution_count": 6,
   "id": "4220e9ee",
   "metadata": {},
   "outputs": [
    {
     "name": "stdout",
     "output_type": "stream",
     "text": [
      "Enter a number: 3\n",
      "Enter the position to insert the number: 2\n",
      "The updated list is:  [10, 20, 3, 30, 40, 50]\n"
     ]
    }
   ],
   "source": [
    "number = int(input(\"Enter a number: \"))\n",
    "list1 = [10, 20, 30, 40, 50]\n",
    "position = int(input(\"Enter the position to insert the number: \"))\n",
    "list1.insert(position, number)\n",
    "print(\"The updated list is: \", list1)"
   ]
  },
  {
   "cell_type": "code",
   "execution_count": 7,
   "id": "e8c25268",
   "metadata": {},
   "outputs": [
    {
     "name": "stdout",
     "output_type": "stream",
     "text": [
      "Enter the new location: India\n",
      "The updated dictionary is:  {'name': 'John', 'age': 5, 'salary': 8000, 'India': 'New York'}\n"
     ]
    }
   ],
   "source": [
    "sample_dict = { \"name\": \"John\", \"age\": 5, \"salary\": 8000, \"city\": \"New York\"}\n",
    "location = input(\"Enter the new location: \")\n",
    "sample_dict[location] = sample_dict.pop(\"city\")\n",
    "print(\"The updated dictionary is: \", sample_dict)"
   ]
  },
  {
   "cell_type": "code",
   "execution_count": 8,
   "id": "58ab3243",
   "metadata": {},
   "outputs": [
    {
     "name": "stdout",
     "output_type": "stream",
     "text": [
      "{'emp1': {'name': 'John', 'salary': 7500}, 'emp2': {'name': 'Emma', 'salary': 8000}, 'emp3': {'name': 'Brad', 'salary': 8500}}\n"
     ]
    }
   ],
   "source": [
    "sample_dict = {\n",
    "'emp1': {'name': 'John', 'salary': 7500},\n",
    "'emp2': {'name': 'Emma', 'salary': 8000},\n",
    "'emp3': {'name': 'Brad', 'salary': 500}}\n",
    "sample_dict['emp3']['salary']=8500\n",
    "print(sample_dict)"
   ]
  },
  {
   "cell_type": "code",
   "execution_count": 9,
   "id": "3641b454",
   "metadata": {},
   "outputs": [
    {
     "name": "stdout",
     "output_type": "stream",
     "text": [
      "new tuple is  (43, 54)\n"
     ]
    }
   ],
   "source": [
    "tuple1 = (10, 20, 43, 54, 56, 68)\n",
    "tuple2=tuple1[2:4]\n",
    "print ('new tuple is ',tuple2)"
   ]
  },
  {
   "cell_type": "code",
   "execution_count": 10,
   "id": "43a547e1",
   "metadata": {},
   "outputs": [
    {
     "data": {
      "text/plain": [
       "3"
      ]
     },
     "execution_count": 10,
     "metadata": {},
     "output_type": "execute_result"
    }
   ],
   "source": [
    "tuple1 = (50, 10, 60, 70, 50,83,567,50,81)\n",
    "tuple1.count(50)"
   ]
  },
  {
   "cell_type": "code",
   "execution_count": null,
   "id": "6e228e7d",
   "metadata": {},
   "outputs": [],
   "source": []
  }
 ],
 "metadata": {
  "kernelspec": {
   "display_name": "Python 3 (ipykernel)",
   "language": "python",
   "name": "python3"
  },
  "language_info": {
   "codemirror_mode": {
    "name": "ipython",
    "version": 3
   },
   "file_extension": ".py",
   "mimetype": "text/x-python",
   "name": "python",
   "nbconvert_exporter": "python",
   "pygments_lexer": "ipython3",
   "version": "3.9.13"
  }
 },
 "nbformat": 4,
 "nbformat_minor": 5
}
