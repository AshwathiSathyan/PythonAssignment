{
 "cells": [
  {
   "cell_type": "markdown",
   "id": "3fc4d8d6",
   "metadata": {},
   "source": [
    "\n",
    "q1"
   ]
  },
  {
   "cell_type": "code",
   "execution_count": 3,
   "id": "7cfa035d",
   "metadata": {},
   "outputs": [
    {
     "name": "stdout",
     "output_type": "stream",
     "text": [
      "Enter marks: 70\n",
      "Grade: B\n"
     ]
    }
   ],
   "source": [
    "marks = float(input(\"Enter marks: \"))\n",
    "\n",
    "if marks < 25:\n",
    "    print(\"Grade: F\")\n",
    "elif marks >= 25 and marks < 45:\n",
    "    print(\"Grade: E\")\n",
    "elif marks >= 45 and marks < 50:\n",
    "    print(\"Grade: D\")\n",
    "elif marks >= 50 and marks < 60:\n",
    "    print(\"Grade: C\")\n",
    "elif marks >= 60 and marks < 80:\n",
    "    print(\"Grade: B\")\n",
    "else:\n",
    "    print(\"Grade: A\")\n"
   ]
  },
  {
   "cell_type": "markdown",
   "id": "bdf2af1c",
   "metadata": {},
   "source": [
    "q2"
   ]
  },
  {
   "cell_type": "code",
   "execution_count": 2,
   "id": "434d638e",
   "metadata": {},
   "outputs": [
    {
     "name": "stdout",
     "output_type": "stream",
     "text": [
      "Enter the number of names: 5\n",
      "Enter name 1: John\n",
      "Enter name 2: Peter\n",
      "Enter name 3: Meera\n",
      "Enter name 4: Mini\n",
      "Enter name 5: Krishna\n",
      "Names with non-repeating characters:  ['John', 'Krishna']\n"
     ]
    }
   ],
   "source": [
    "names = []\n",
    "non_repeating_names = []\n",
    "\n",
    "length = int(input(\"Enter the number of names: \"))\n",
    "for i in range(length):\n",
    "    name = input(\"Enter name {}: \".format(i + 1))\n",
    "    names.append(name)\n",
    "\n",
    "for name in names:\n",
    "    if len(name) == len(set(name)):\n",
    "        non_repeating_names.append(name)\n",
    "\n",
    "print(\"Names with non-repeating characters: \", non_repeating_names)\n"
   ]
  },
  {
   "cell_type": "markdown",
   "id": "8e427177",
   "metadata": {},
   "source": [
    "q3"
   ]
  },
  {
   "cell_type": "code",
   "execution_count": 3,
   "id": "58ca2b63",
   "metadata": {},
   "outputs": [
    {
     "name": "stdout",
     "output_type": "stream",
     "text": [
      "Enter the length of the rectangle: 5\n",
      "Enter the breadth of the rectangle: 6\n",
      "The rectangle is not a square.\n"
     ]
    }
   ],
   "source": [
    "l = float(input(\"Enter the length of the rectangle: \"))\n",
    "b = float(input(\"Enter the breadth of the rectangle: \"))\n",
    "\n",
    "if l == b:\n",
    "    print(\"The rectangle is a square.\")\n",
    "else:\n",
    "    print(\"The rectangle is not a square.\")\n"
   ]
  },
  {
   "cell_type": "markdown",
   "id": "fe8ec537",
   "metadata": {},
   "source": [
    "q4"
   ]
  },
  {
   "cell_type": "code",
   "execution_count": 4,
   "id": "5615a29b",
   "metadata": {},
   "outputs": [
    {
     "name": "stdout",
     "output_type": "stream",
     "text": [
      "Enter the number of classes held: 79\n",
      "Enter the number of classes attended: 55\n",
      "Attendance percentage: 69.62\n",
      "The student is not allowed to sit in the exam.\n"
     ]
    }
   ],
   "source": [
    "class_held= float(input(\"Enter the number of classes held: \"))\n",
    "class_attended = float(input(\"Enter the number of classes attended: \"))\n",
    "\n",
    "percentage = (class_attended / class_held) * 100\n",
    "\n",
    "if percentage < 75.0:\n",
    "    print(\"Attendance percentage: {:.2f}\".format(percentage))\n",
    "    print(\"The student is not allowed to sit in the exam.\")\n",
    "else:\n",
    "    print(\"Attendance percentage: {:.2f}\".format(percentage))\n",
    "    print(\"The student is allowed to sit in the exam.\")\n"
   ]
  },
  {
   "cell_type": "markdown",
   "id": "753c815f",
   "metadata": {},
   "source": [
    "q5"
   ]
  },
  {
   "cell_type": "code",
   "execution_count": 5,
   "id": "fcf82e86",
   "metadata": {},
   "outputs": [
    {
     "name": "stdout",
     "output_type": "stream",
     "text": [
      "Enter the length of the list: 5\n",
      "Enter element 1: 1\n",
      "Enter element 2: 2\n",
      "Enter element 3: 3\n",
      "Enter element 4: 4\n",
      "Enter element 5: 5\n",
      "Sum of elements:  15\n",
      "Even list:  [2, 4]\n",
      "Odd list:  [1, 3, 5]\n"
     ]
    }
   ],
   "source": [
    "length = int(input(\"Enter the length of the list: \"))\n",
    "list1 = []\n",
    "sum_of_elements = 0\n",
    "even_list = []\n",
    "odd_list = []\n",
    "\n",
    "for i in range(length):\n",
    "    element = int(input(\"Enter element {}: \".format(i + 1)))\n",
    "    list1.append(element)\n",
    "    sum_of_elements += element\n",
    "    if element % 2 == 0:\n",
    "        even_list.append(element)\n",
    "    else:\n",
    "        odd_list.append(element)\n",
    "\n",
    "print(\"Sum of elements: \", sum_of_elements)\n",
    "print(\"Even list: \", even_list)\n",
    "print(\"Odd list: \", odd_list)\n"
   ]
  },
  {
   "cell_type": "markdown",
   "id": "21bcce51",
   "metadata": {},
   "source": [
    "q6"
   ]
  },
  {
   "cell_type": "code",
   "execution_count": 6,
   "id": "b92814b5",
   "metadata": {},
   "outputs": [
    {
     "name": "stdout",
     "output_type": "stream",
     "text": [
      "Hello! Welcome to our e-commerce website. How can I assist you today?(show products?)?\n",
      "You: show products\n",
      "We have a wide range of products available, including:\n",
      "1. Clothing\n",
      "2. Shoes\n",
      "3. Electronics\n",
      "4. Home goods\n",
      "choose one\n",
      "You: clothing\n",
      "Our clothing section includes:\n",
      "1. T-shirts\n",
      "2. Jeans\n",
      "3. Dresses\n",
      "4. Jackets\n",
      "Please check out the clothing section in the category to explore more.\n",
      "You: ok\n",
      "Its my pleasure,please enter continue to proceed or exit to exit the conversation.\n",
      "You: continue\n",
      "Chatbot: Hello! How can I help you today?\n",
      "You: hi\n",
      "Chatbot: Hello! How can I help you today?\n",
      "You: exit\n",
      "Chatbot: Thank you for visiting our website. Have a great day!\n"
     ]
    }
   ],
   "source": [
    "print(\"Hello! Welcome to our e-commerce website. How can I assist you today?(show products?)?\")\n",
    "\n",
    "def get_user_input():\n",
    "    return input(\"You: \")\n",
    "\n",
    "def show_products():\n",
    "    print(\"We have a wide range of products available, including:\")\n",
    "    print(\"1. Clothing\")\n",
    "    print(\"2. Shoes\")\n",
    "    print(\"3. Electronics\")\n",
    "    print(\"4. Home goods\")\n",
    "    print(\"choose one\")\n",
    "    return\n",
    "\n",
    "def show_clothing_options():\n",
    "    print(\"Our clothing section includes:\")\n",
    "    print(\"1. T-shirts\")\n",
    "    print(\"2. Jeans\")\n",
    "    print(\"3. Dresses\")\n",
    "    print(\"4. Jackets\")\n",
    "    print(\"Please check out the clothing section in the category to explore more.\")\n",
    "    return\n",
    "def show_shoes_options():\n",
    "    print(\"Shoe section involves items for male and female.Please check out the footwear section to explore more.\")\n",
    "    return\n",
    "def show_electronics_options():\n",
    "    print(\"Our E store includes:\")\n",
    "    print(\"1.Mobile Phones\")\n",
    "    print(\"2.Speakers\")\n",
    "    print(\"3.Watches\")\n",
    "    print(\"4.Laptops\")\n",
    "    print(\"Please check out the Electronics section in the category to explore more.\")\n",
    "    return\n",
    "\n",
    "while True:\n",
    "    user_input = get_user_input().lower()\n",
    "    if user_input in [\"hi\", \"hello\", \"hey\",\"hii\",\"continue\"]:\n",
    "        print(\"Chatbot: Hello! How can I help you today?\")\n",
    "    elif user_input == \"show products\":\n",
    "        show_products()\n",
    "    elif user_input == \"clothing\":\n",
    "        show_clothing_options()\n",
    "    elif user_input ==\"shoes\":\n",
    "        show_shoes_options()\n",
    "    elif user_input ==\"electronics\":\n",
    "        show_electronics_options()\n",
    "    elif user_input in [\"ok\",\"thankyou\"]:\n",
    "        print(\"Its my pleasure,please enter continue to proceed or exit to exit the conversation.\")\n",
    "    elif user_input == \"exit\":\n",
    "        print(\"Chatbot: Thank you for visiting our website. Have a great day!\")\n",
    "        break\n",
    "    else:\n",
    "        print(\"Chatbot: Sorry, I did not understand what you meant. Could you please rephrase your request?\")\n"
   ]
  },
  {
   "cell_type": "markdown",
   "id": "9fa4e950",
   "metadata": {},
   "source": [
    "q7"
   ]
  },
  {
   "cell_type": "code",
   "execution_count": 7,
   "id": "0fb51bc7",
   "metadata": {},
   "outputs": [
    {
     "name": "stdout",
     "output_type": "stream",
     "text": [
      "Enter the coefficient of x^2: 1\n",
      "Enter the coefficient of x: 6\n",
      "Enter the constant: 9\n",
      "The roots are real and equal.\n",
      "Root:  -3.0\n"
     ]
    }
   ],
   "source": [
    "import math\n",
    "\n",
    "a = int(input(\"Enter the coefficient of x^2: \"))\n",
    "b = int(input(\"Enter the coefficient of x: \"))\n",
    "c = int(input(\"Enter the constant: \"))\n",
    "\n",
    "d = b**2 - 4*a*c\n",
    "\n",
    "if d >= 0:\n",
    "    sqrt_val = math.sqrt(d)\n",
    "    root1 = (-b + sqrt_val) / (2 * a)\n",
    "    root2 = (-b - sqrt_val) / (2 * a)\n",
    "    print(\"The roots are real and\", end=\" \")\n",
    "    if root1 == root2:\n",
    "        print(\"equal.\")\n",
    "        print(\"Root: \", root1)\n",
    "    else:\n",
    "        print(\"distinct.\")\n",
    "        print(\"Root 1: \", root1)\n",
    "        print(\"Root 2: \", root2)\n",
    "else:\n",
    "    print(\"The roots are complex.\")\n",
    "    real = -b / (2 * a)\n",
    "    imag = math.sqrt(-d) / (2 * a)\n",
    "    print(\"Root 1: \", real, \" + i\", imag)\n",
    "    print(\"Root 2: \", real, \" - i\", imag)\n"
   ]
  },
  {
   "cell_type": "markdown",
   "id": "cedf0c5b",
   "metadata": {},
   "source": [
    "q8"
   ]
  },
  {
   "cell_type": "code",
   "execution_count": 10,
   "id": "97549347",
   "metadata": {},
   "outputs": [
    {
     "name": "stdout",
     "output_type": "stream",
     "text": [
      "Enter the start of the range: 1\n",
      "Enter the end of the range: 10\n",
      "Current Number: 1 Previous Number: 0 Sum: 1\n",
      "Current Number: 2 Previous Number: 1 Sum: 3\n",
      "Current Number: 3 Previous Number: 2 Sum: 5\n",
      "Current Number: 4 Previous Number: 3 Sum: 7\n",
      "Current Number: 5 Previous Number: 4 Sum: 9\n",
      "Current Number: 6 Previous Number: 5 Sum: 11\n",
      "Current Number: 7 Previous Number: 6 Sum: 13\n",
      "Current Number: 8 Previous Number: 7 Sum: 15\n",
      "Current Number: 9 Previous Number: 8 Sum: 17\n",
      "Current Number: 10 Previous Number: 9 Sum: 19\n"
     ]
    }
   ],
   "source": [
    "start = int(input(\"Enter the start of the range: \"))\n",
    "end = int(input(\"Enter the end of the range: \"))\n",
    "previous = start-1\n",
    "\n",
    "for current in range(start, end + 1):\n",
    "    sum = previous + current\n",
    "    print(f\"Current Number: {current} Previous Number: {previous} Sum: {sum}\")\n",
    "    previous = current\n"
   ]
  },
  {
   "cell_type": "markdown",
   "id": "a6d5dc51",
   "metadata": {},
   "source": [
    "q9"
   ]
  },
  {
   "cell_type": "code",
   "execution_count": 1,
   "id": "168025a9",
   "metadata": {},
   "outputs": [
    {
     "name": "stdout",
     "output_type": "stream",
     "text": [
      "Enter the start of the range to find prime: 1\n",
      "Enter the end of the range to find prime: 20\n",
      "2\n",
      "3\n",
      "5\n",
      "7\n",
      "11\n",
      "13\n",
      "17\n",
      "19\n"
     ]
    }
   ],
   "source": [
    "start = int(input(\"Enter the start of the range to find prime: \"))\n",
    "end = int(input(\"Enter the end of the range to find prime: \"))\n",
    "\n",
    "for num in range(start, end + 1):\n",
    "    if num > 1:\n",
    "        for i in range(2, num):\n",
    "            if (num % i) == 0:\n",
    "                break\n",
    "        else:\n",
    "            print(num)"
   ]
  },
  {
   "cell_type": "markdown",
   "id": "a5babfcd",
   "metadata": {},
   "source": [
    "q10"
   ]
  },
  {
   "cell_type": "code",
   "execution_count": 2,
   "id": "53983467",
   "metadata": {},
   "outputs": [
    {
     "name": "stdout",
     "output_type": "stream",
     "text": [
      "Enter the start of the range for fib: 1\n",
      "Enter the end of the range for fib: 50\n",
      "1\n",
      "1\n",
      "2\n",
      "3\n",
      "5\n",
      "8\n",
      "13\n",
      "21\n",
      "34\n"
     ]
    }
   ],
   "source": [
    "start = int(input(\"Enter the start of the range for fib: \"))\n",
    "end = int(input(\"Enter the end of the range for fib: \"))\n",
    "\n",
    "fib1, fib2 = 0, 1\n",
    "\n",
    "while fib2 < end:\n",
    "    if fib2 >= start:\n",
    "        print(fib2)\n",
    "    fib1, fib2 = fib2, fib1 + fib2\n",
    "\n"
   ]
  },
  {
   "cell_type": "code",
   "execution_count": null,
   "id": "7d2cfe86",
   "metadata": {},
   "outputs": [],
   "source": []
  },
  {
   "cell_type": "code",
   "execution_count": null,
   "id": "9783e2c0",
   "metadata": {},
   "outputs": [],
   "source": []
  }
 ],
 "metadata": {
  "kernelspec": {
   "display_name": "Python 3 (ipykernel)",
   "language": "python",
   "name": "python3"
  },
  "language_info": {
   "codemirror_mode": {
    "name": "ipython",
    "version": 3
   },
   "file_extension": ".py",
   "mimetype": "text/x-python",
   "name": "python",
   "nbconvert_exporter": "python",
   "pygments_lexer": "ipython3",
   "version": "3.9.13"
  }
 },
 "nbformat": 4,
 "nbformat_minor": 5
}
