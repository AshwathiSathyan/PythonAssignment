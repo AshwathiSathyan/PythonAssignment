{
 "cells": [
  {
   "cell_type": "markdown",
   "id": "3b655f7e",
   "metadata": {},
   "source": [
    "q1"
   ]
  },
  {
   "cell_type": "code",
   "execution_count": 1,
   "id": "315ba15e",
   "metadata": {},
   "outputs": [
    {
     "name": "stdout",
     "output_type": "stream",
     "text": [
      "Enter a list of numbers separated by spaces: 2 3 4 5 6 7\n",
      "The sum of the list is: 27\n"
     ]
    }
   ],
   "source": [
    "def sum_list(numbers):\n",
    "    total = 0\n",
    "    for num in numbers:\n",
    "        total += num\n",
    "    return total\n",
    "\n",
    "\n",
    "user_input = input(\"Enter a list of numbers separated by spaces: \")\n",
    "numbers = [int(num) for num in user_input.split()]\n",
    "\n",
    "\n",
    "result = sum_list(numbers)\n",
    "\n",
    "\n",
    "print(\"The sum of the list is:\", result)\n"
   ]
  },
  {
   "cell_type": "markdown",
   "id": "44720200",
   "metadata": {},
   "source": [
    "q2"
   ]
  },
  {
   "cell_type": "code",
   "execution_count": 2,
   "id": "ff515a54",
   "metadata": {},
   "outputs": [
    {
     "name": "stdout",
     "output_type": "stream",
     "text": [
      "Enter a string: racecar\n",
      "The string is a palindrome!\n"
     ]
    }
   ],
   "source": [
    "def is_palindrome(string):\n",
    "    \n",
    "    string = string.lower().replace(\" \", \"\")\n",
    "    \n",
    "    \n",
    "    for i in range(len(string)//2):\n",
    "        if string[i] != string[-i-1]:\n",
    "            return False\n",
    "    return True\n",
    "\n",
    "\n",
    "user_input = input(\"Enter a string: \")\n",
    "\n",
    "\n",
    "if is_palindrome(user_input):\n",
    "    print(\"The string is a palindrome!\")\n",
    "else:\n",
    "    print(\"The string is not a palindrome.\")\n"
   ]
  },
  {
   "cell_type": "markdown",
   "id": "f74c4c05",
   "metadata": {},
   "source": [
    "q3"
   ]
  },
  {
   "cell_type": "code",
   "execution_count": 3,
   "id": "8e438b51",
   "metadata": {},
   "outputs": [
    {
     "name": "stdout",
     "output_type": "stream",
     "text": [
      "Enter the limit for the Fibonacci series: 5\n",
      "0 1 1 2 3 "
     ]
    }
   ],
   "source": [
    "def fibonacci(n):\n",
    "    if n == 0:\n",
    "        return 0\n",
    "    elif n == 1:\n",
    "        return 1\n",
    "    else:\n",
    "        return fibonacci(n-1) + fibonacci(n-2)\n",
    "\n",
    "limit = int(input(\"Enter the limit for the Fibonacci series: \"))\n",
    "\n",
    "for i in range(limit):\n",
    "    print(fibonacci(i), end=\" \")\n"
   ]
  },
  {
   "cell_type": "markdown",
   "id": "dea82118",
   "metadata": {},
   "source": [
    "q4"
   ]
  },
  {
   "cell_type": "code",
   "execution_count": 4,
   "id": "473877ae",
   "metadata": {},
   "outputs": [
    {
     "name": "stdout",
     "output_type": "stream",
     "text": [
      "Enter a number: 7\n",
      "7 x 1 = 7\n",
      "7 x 2 = 14\n",
      "7 x 3 = 21\n",
      "7 x 4 = 28\n",
      "7 x 5 = 35\n",
      "7 x 6 = 42\n",
      "7 x 7 = 49\n",
      "7 x 8 = 56\n",
      "7 x 9 = 63\n",
      "7 x 10 = 70\n"
     ]
    }
   ],
   "source": [
    "\n",
    "def multiplication_table(n, i=1):\n",
    "    if i > 10:\n",
    "        return\n",
    "    print(f\"{n} x {i} = {n*i}\")\n",
    "    multiplication_table(n, i+1)\n",
    "\n",
    "\n",
    "number = int(input(\"Enter a number: \"))\n",
    "\n",
    "\n",
    "multiplication_table(number)\n"
   ]
  },
  {
   "cell_type": "markdown",
   "id": "a66f98fa",
   "metadata": {},
   "source": [
    "q5"
   ]
  },
  {
   "cell_type": "code",
   "execution_count": 5,
   "id": "9f035dce",
   "metadata": {},
   "outputs": [
    {
     "name": "stdout",
     "output_type": "stream",
     "text": [
      "enter the word:hello\n",
      "Number of vowels: 2\n",
      "Number of consonants: 3\n"
     ]
    }
   ],
   "source": [
    "def count_vowels_consonants(word):\n",
    "    vowels = 0\n",
    "    consonants = 0\n",
    "    for letter in word:\n",
    "        if letter.lower() in 'aeiou':\n",
    "            vowels += 1\n",
    "        else:\n",
    "            consonants += 1\n",
    "    return vowels, consonants\n",
    "\n",
    "# example usage\n",
    "word = input(\"enter the word:\")\n",
    "vowels, consonants = count_vowels_consonants(word)\n",
    "print(f\"Number of vowels: {vowels}\")\n",
    "print(f\"Number of consonants: {consonants}\")\n"
   ]
  },
  {
   "cell_type": "markdown",
   "id": "242777a7",
   "metadata": {},
   "source": [
    "q6"
   ]
  },
  {
   "cell_type": "code",
   "execution_count": 6,
   "id": "99ab5799",
   "metadata": {},
   "outputs": [
    {
     "name": "stdout",
     "output_type": "stream",
     "text": [
      "enter the wordhello world\n",
      "HELLO WORLD\n"
     ]
    }
   ],
   "source": [
    "def uppercase_word(word):\n",
    "    return word.upper()\n",
    "\n",
    "\n",
    "word =input(\"enter the word\")\n",
    "uppercase = uppercase_word(word)\n",
    "print(uppercase)\n"
   ]
  },
  {
   "cell_type": "markdown",
   "id": "fb93ff98",
   "metadata": {},
   "source": [
    "q7"
   ]
  },
  {
   "cell_type": "code",
   "execution_count": 7,
   "id": "3356fc4a",
   "metadata": {},
   "outputs": [
    {
     "name": "stdout",
     "output_type": "stream",
     "text": [
      "[12, 0, 23, -55, 234, 89, 0, 6, -12]\n"
     ]
    }
   ],
   "source": [
    "input_list = [12, 0, None, 23, None, -55, 234, 89, None, 0, 6, -12]\n",
    "output_list = list(filter(lambda x: x is not None, input_list))\n",
    "print(output_list)\n"
   ]
  },
  {
   "cell_type": "markdown",
   "id": "83f9a3a2",
   "metadata": {},
   "source": [
    "q8"
   ]
  },
  {
   "cell_type": "code",
   "execution_count": 8,
   "id": "6b6dc294",
   "metadata": {},
   "outputs": [
    {
     "name": "stdout",
     "output_type": "stream",
     "text": [
      "Length of rectangle: 5\n",
      "Width of rectangle: 10\n",
      "Perimeter of rectangle: 30\n",
      "Area of rectangle: 50\n",
      "Length of rectangle: 5\n",
      "Width of rectangle: 10\n",
      "Perimeter of rectangle: 30\n",
      "Area of rectangle: 50\n",
      "Height: 3\n",
      "Volume: 150\n"
     ]
    }
   ],
   "source": [
    "class Rectangle:\n",
    "    def __init__(self, length, width):\n",
    "        self.length = length\n",
    "        self.width = width\n",
    "    \n",
    "    def perimeter(self):\n",
    "        return 2 * (self.length + self.width)\n",
    "    \n",
    "    def area(self):\n",
    "        return self.length * self.width\n",
    "    \n",
    "    def display(self):\n",
    "        print(f\"Length of rectangle: {self.length}\")\n",
    "        print(f\"Width of rectangle: {self.width}\")\n",
    "        print(f\"Perimeter of rectangle: {self.perimeter()}\")\n",
    "        print(f\"Area of rectangle: {self.area()}\")\n",
    "\n",
    "class Parallelepiped(Rectangle):\n",
    "    def __init__(self, length, width, height):\n",
    "        super().__init__(length, width)\n",
    "        self.height = height\n",
    "    \n",
    "    def volume(self):\n",
    "        return self.length * self.width * self.height\n",
    "    \n",
    "    def display(self):\n",
    "        super().display()\n",
    "        print(f\"Height: {self.height}\")\n",
    "        print(f\"Volume: {self.volume()}\")\n",
    "\n",
    "rectangle = Rectangle(5, 10)\n",
    "rectangle.display()\n",
    "\n",
    "parallelepiped = Parallelepiped(5, 10, 3)\n",
    "parallelepiped.display()"
   ]
  },
  {
   "cell_type": "markdown",
   "id": "da1e32ad",
   "metadata": {},
   "source": [
    "q9"
   ]
  },
  {
   "cell_type": "code",
   "execution_count": 9,
   "id": "1b096b53",
   "metadata": {},
   "outputs": [
    {
     "name": "stdout",
     "output_type": "stream",
     "text": [
      "Deposit successful. New balance is: $1500\n",
      "Withdrawal successful. New balance is: $1300\n",
      "Bank fees applied. New balance is: $1235.0\n",
      "Account Number: 123456\n",
      "Account Name: John Smith\n",
      "Account Balance: $1235.0\n"
     ]
    }
   ],
   "source": [
    "class BankAccount:\n",
    "    \n",
    "    def __init__(self, accountNumber, name, balance):\n",
    "        self.accountNumber = accountNumber\n",
    "        self.name = name\n",
    "        self.balance = balance\n",
    "    \n",
    "    def Deposit(self, amount):\n",
    "        self.balance += amount\n",
    "        print(\"Deposit successful. New balance is: ${}\".format(self.balance))\n",
    "        \n",
    "    def Withdrawal(self, amount):\n",
    "        if amount <= self.balance:\n",
    "            self.balance -= amount\n",
    "            print(\"Withdrawal successful. New balance is: ${}\".format(self.balance))\n",
    "        else:\n",
    "            print(\"Insufficient balance.\")\n",
    "    \n",
    "    def bankFees(self):\n",
    "        fee = self.balance * 0.05\n",
    "        self.balance -= fee\n",
    "        print(\"Bank fees applied. New balance is: ${}\".format(self.balance))\n",
    "    \n",
    "    def display(self):\n",
    "        print(\"Account Number:\", self.accountNumber)\n",
    "        print(\"Account Name:\", self.name)\n",
    "        print(\"Account Balance: ${}\".format(self.balance))\n",
    "        \n",
    "\n",
    "\n",
    "# create a bank account\n",
    "my_account = BankAccount(123456, \"John Smith\", 1000)\n",
    "\n",
    "# make a deposit\n",
    "my_account.Deposit(500)\n",
    "\n",
    "# make a withdrawal\n",
    "my_account.Withdrawal(200)\n",
    "\n",
    "# apply bank fees\n",
    "my_account.bankFees()\n",
    "\n",
    "# display account details\n",
    "my_account.display()\n"
   ]
  },
  {
   "cell_type": "markdown",
   "id": "2d71d6bb",
   "metadata": {},
   "source": [
    "q10"
   ]
  },
  {
   "cell_type": "code",
   "execution_count": 11,
   "id": "badb934a",
   "metadata": {},
   "outputs": [
    {
     "name": "stdout",
     "output_type": "stream",
     "text": [
      "Rectangle area: 20\n",
      "Rectangle perimeter: 18\n",
      "Parallelepiped area: 12\n",
      "Parallelepiped perimeter: 14\n",
      "Parallelepiped volume: 60\n"
     ]
    }
   ],
   "source": [
    "class Rectangle:\n",
    "    \n",
    "    def __init__(self, length, breadth):\n",
    "        self.length = length\n",
    "        self.breadth = breadth\n",
    "    \n",
    "    def area(self):\n",
    "        return self.length * self.breadth\n",
    "    \n",
    "    def perimeter(self):\n",
    "        return 2 * (self.length + self.breadth)\n",
    "\n",
    "\n",
    "\n",
    "class Parallelepiped(Rectangle):\n",
    "    \n",
    "    def __init__(self, length, breadth, height):\n",
    "        super().__init__(length, breadth)\n",
    "        self.height = height\n",
    "    \n",
    "    def volume(self):\n",
    "        return self.length * self.breadth * self.height\n",
    "\n",
    "    \n",
    "    \n",
    "rectangle = Rectangle(4, 5)\n",
    "print(\"Rectangle area:\", rectangle.area())\n",
    "print(\"Rectangle perimeter:\", rectangle.perimeter())\n",
    "\n",
    "parallelepiped = Parallelepiped(3, 4, 5)\n",
    "print(\"Parallelepiped area:\", parallelepiped.area())\n",
    "print(\"Parallelepiped perimeter:\", parallelepiped.perimeter())\n",
    "print(\"Parallelepiped volume:\", parallelepiped.volume())\n"
   ]
  },
  {
   "cell_type": "code",
   "execution_count": null,
   "id": "90472345",
   "metadata": {},
   "outputs": [],
   "source": []
  },
  {
   "cell_type": "code",
   "execution_count": null,
   "id": "c45044c0",
   "metadata": {},
   "outputs": [],
   "source": []
  }
 ],
 "metadata": {
  "kernelspec": {
   "display_name": "Python 3 (ipykernel)",
   "language": "python",
   "name": "python3"
  },
  "language_info": {
   "codemirror_mode": {
    "name": "ipython",
    "version": 3
   },
   "file_extension": ".py",
   "mimetype": "text/x-python",
   "name": "python",
   "nbconvert_exporter": "python",
   "pygments_lexer": "ipython3",
   "version": "3.9.13"
  }
 },
 "nbformat": 4,
 "nbformat_minor": 5
}
